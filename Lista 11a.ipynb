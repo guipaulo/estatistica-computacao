{
 "cells": [
  {
   "cell_type": "markdown",
   "id": "580e9687",
   "metadata": {},
   "source": [
    "**Aluno:** Paulo Guilherme Silva de Araújo\n",
    "\n",
    "**Curso:** Engenharia de Computação - Turma **B**"
   ]
  },
  {
   "cell_type": "code",
   "execution_count": 2,
   "id": "0a0d304b",
   "metadata": {},
   "outputs": [],
   "source": [
    "import pandas as pd\n",
    "import numpy as np\n",
    "import matplotlib.pyplot as plt"
   ]
  },
  {
   "cell_type": "markdown",
   "id": "b51acf11",
   "metadata": {},
   "source": [
    "**Questão 1:**"
   ]
  },
  {
   "cell_type": "code",
   "execution_count": 3,
   "id": "d6eed859",
   "metadata": {},
   "outputs": [
    {
     "data": {
      "text/html": [
       "<div>\n",
       "<style scoped>\n",
       "    .dataframe tbody tr th:only-of-type {\n",
       "        vertical-align: middle;\n",
       "    }\n",
       "\n",
       "    .dataframe tbody tr th {\n",
       "        vertical-align: top;\n",
       "    }\n",
       "\n",
       "    .dataframe thead th {\n",
       "        text-align: right;\n",
       "    }\n",
       "</style>\n",
       "<table border=\"1\" class=\"dataframe\">\n",
       "  <thead>\n",
       "    <tr style=\"text-align: right;\">\n",
       "      <th></th>\n",
       "      <th>Erros</th>\n",
       "      <th>Frequência</th>\n",
       "    </tr>\n",
       "  </thead>\n",
       "  <tbody>\n",
       "    <tr>\n",
       "      <th>0</th>\n",
       "      <td>0</td>\n",
       "      <td>25</td>\n",
       "    </tr>\n",
       "    <tr>\n",
       "      <th>1</th>\n",
       "      <td>1</td>\n",
       "      <td>50</td>\n",
       "    </tr>\n",
       "    <tr>\n",
       "      <th>2</th>\n",
       "      <td>2</td>\n",
       "      <td>3</td>\n",
       "    </tr>\n",
       "    <tr>\n",
       "      <th>3</th>\n",
       "      <td>3</td>\n",
       "      <td>1</td>\n",
       "    </tr>\n",
       "    <tr>\n",
       "      <th>4</th>\n",
       "      <td>4</td>\n",
       "      <td>1</td>\n",
       "    </tr>\n",
       "  </tbody>\n",
       "</table>\n",
       "</div>"
      ],
      "text/plain": [
       "   Erros  Frequência\n",
       "0      0          25\n",
       "1      1          50\n",
       "2      2           3\n",
       "3      3           1\n",
       "4      4           1"
      ]
     },
     "execution_count": 3,
     "metadata": {},
     "output_type": "execute_result"
    }
   ],
   "source": [
    "#a)\n",
    "\n",
    "d1 = {'Erros': [0, 1, 2, 3, 4], 'Frequência': [25, 50, 3, 1, 1]}\n",
    "df1 = pd.DataFrame(data=d1)\n",
    "df1"
   ]
  },
  {
   "cell_type": "code",
   "execution_count": 4,
   "id": "ae4db19f",
   "metadata": {},
   "outputs": [
    {
     "data": {
      "text/plain": [
       "63"
      ]
     },
     "execution_count": 4,
     "metadata": {},
     "output_type": "execute_result"
    }
   ],
   "source": [
    "soma = df1['Erros']*df1['Frequência']\n",
    "soma = soma.sum()\n",
    "soma"
   ]
  },
  {
   "cell_type": "code",
   "execution_count": 5,
   "id": "855a1989",
   "metadata": {},
   "outputs": [
    {
     "data": {
      "text/plain": [
       "80"
      ]
     },
     "execution_count": 5,
     "metadata": {},
     "output_type": "execute_result"
    }
   ],
   "source": [
    "pesos = df1['Frequência']\n",
    "pesos = pesos.sum()\n",
    "pesos"
   ]
  },
  {
   "cell_type": "code",
   "execution_count": 6,
   "id": "d03fb91a",
   "metadata": {},
   "outputs": [
    {
     "name": "stdout",
     "output_type": "stream",
     "text": [
      "A média é: 0.7875\n"
     ]
    }
   ],
   "source": [
    "media = soma/pesos\n",
    "print('A média é: {}'.format(media))"
   ]
  },
  {
   "cell_type": "code",
   "execution_count": 7,
   "id": "978d2520",
   "metadata": {},
   "outputs": [
    {
     "data": {
      "text/plain": [
       "1.0"
      ]
     },
     "execution_count": 7,
     "metadata": {},
     "output_type": "execute_result"
    }
   ],
   "source": [
    "#b)\n",
    "\n",
    "M = pd.Series([0,0,0,0,0,0,0,0,0,0,0,0,0,0,0,0,0,0,0,0,0,0,0,0,0,0,1,1,1,1,1,1,1,1,1,1,1,1,1,1,1,1,1,1,1,1,1,1,1,\n",
    "    1,1,1,1,1,1,1,1,1,1,1,1,1,1,1,1,1,1,1,1,1,1,1,1,1,1,1,1,1,1,2,2,2,3,4])\n",
    "mediana = M.median()\n",
    "mediana"
   ]
  },
  {
   "cell_type": "code",
   "execution_count": 55,
   "id": "f8ccd751",
   "metadata": {},
   "outputs": [
    {
     "data": {
      "text/plain": [
       "0.6738557951469003"
      ]
     },
     "execution_count": 55,
     "metadata": {},
     "output_type": "execute_result"
    }
   ],
   "source": [
    "#c)\n",
    "\n",
    "M.std(ddof=0)"
   ]
  },
  {
   "cell_type": "code",
   "execution_count": 56,
   "id": "996cb557",
   "metadata": {},
   "outputs": [
    {
     "data": {
      "image/png": "[encoded data removed]",
      "text/plain": [
       "<Figure size 432x288 with 1 Axes>"
      ]
     },
     "metadata": {
      "needs_background": "light"
     },
     "output_type": "display_data"
    }
   ],
   "source": [
    "#d)\n",
    "\n",
    "X = plt.hist(M, bins='auto')"
   ]
  },
  {
   "cell_type": "code",
   "execution_count": 58,
   "id": "89e44077",
   "metadata": {},
   "outputs": [
    {
     "data": {
      "text/plain": [
       "393.75"
      ]
     },
     "execution_count": 58,
     "metadata": {},
     "output_type": "execute_result"
    }
   ],
   "source": [
    "#e)\n",
    "\n",
    "#Para esse cálculo, basta multiplicar a média de erros por página pela quantidade de páginas.\n",
    "\n",
    "total = 0.7875*500\n",
    "total"
   ]
  },
  {
   "cell_type": "markdown",
   "id": "9fdd0821",
   "metadata": {},
   "source": [
    "**Questão 2:**"
   ]
  },
  {
   "cell_type": "code",
   "execution_count": 63,
   "id": "0c8603fc",
   "metadata": {},
   "outputs": [
    {
     "data": {
      "text/plain": [
       "0    2.59\n",
       "1    2.64\n",
       "2    2.60\n",
       "3    2.62\n",
       "4    2.57\n",
       "5    2.55\n",
       "6    2.61\n",
       "7    2.50\n",
       "8    2.63\n",
       "9    2.64\n",
       "dtype: float64"
      ]
     },
     "execution_count": 63,
     "metadata": {},
     "output_type": "execute_result"
    }
   ],
   "source": [
    "s1 = pd.Series([2.59, 2.64, 2.60, 2.62, 2.57, 2.55, 2.61, 2.50, 2.63, 2.64])\n",
    "s1"
   ]
  },
  {
   "cell_type": "code",
   "execution_count": 64,
   "id": "547f3a19",
   "metadata": {},
   "outputs": [
    {
     "data": {
      "text/plain": [
       "2.5949999999999998"
      ]
     },
     "execution_count": 64,
     "metadata": {},
     "output_type": "execute_result"
    }
   ],
   "source": [
    "s1.mean()"
   ]
  },
  {
   "cell_type": "code",
   "execution_count": 65,
   "id": "077ee620",
   "metadata": {},
   "outputs": [
    {
     "data": {
      "text/plain": [
       "2.605"
      ]
     },
     "execution_count": 65,
     "metadata": {},
     "output_type": "execute_result"
    }
   ],
   "source": [
    "s1.median()"
   ]
  },
  {
   "cell_type": "code",
   "execution_count": 66,
   "id": "5ec20d12",
   "metadata": {},
   "outputs": [
    {
     "data": {
      "text/plain": [
       "0.042249260348555265"
      ]
     },
     "execution_count": 66,
     "metadata": {},
     "output_type": "execute_result"
    }
   ],
   "source": [
    "s1.std(ddof=0)"
   ]
  },
  {
   "cell_type": "markdown",
   "id": "933a58f3",
   "metadata": {},
   "source": [
    "**Questão 3:**"
   ]
  },
  {
   "cell_type": "code",
   "execution_count": 73,
   "id": "d5e140b0",
   "metadata": {},
   "outputs": [
    {
     "data": {
      "text/html": [
       "<div>\n",
       "<style scoped>\n",
       "    .dataframe tbody tr th:only-of-type {\n",
       "        vertical-align: middle;\n",
       "    }\n",
       "\n",
       "    .dataframe tbody tr th {\n",
       "        vertical-align: top;\n",
       "    }\n",
       "\n",
       "    .dataframe thead th {\n",
       "        text-align: right;\n",
       "    }\n",
       "</style>\n",
       "<table border=\"1\" class=\"dataframe\">\n",
       "  <thead>\n",
       "    <tr style=\"text-align: right;\">\n",
       "      <th></th>\n",
       "      <th>0</th>\n",
       "      <th>1</th>\n",
       "      <th>2</th>\n",
       "      <th>3</th>\n",
       "      <th>4</th>\n",
       "      <th>5</th>\n",
       "      <th>6</th>\n",
       "      <th>7</th>\n",
       "      <th>8</th>\n",
       "      <th>9</th>\n",
       "    </tr>\n",
       "  </thead>\n",
       "  <tbody>\n",
       "    <tr>\n",
       "      <th>0</th>\n",
       "      <td>2</td>\n",
       "      <td>2</td>\n",
       "      <td>3</td>\n",
       "      <td>10</td>\n",
       "      <td>13</td>\n",
       "      <td>14</td>\n",
       "      <td>15</td>\n",
       "      <td>15</td>\n",
       "      <td>16</td>\n",
       "      <td>16</td>\n",
       "    </tr>\n",
       "    <tr>\n",
       "      <th>1</th>\n",
       "      <td>18</td>\n",
       "      <td>18</td>\n",
       "      <td>20</td>\n",
       "      <td>21</td>\n",
       "      <td>22</td>\n",
       "      <td>22</td>\n",
       "      <td>23</td>\n",
       "      <td>24</td>\n",
       "      <td>25</td>\n",
       "      <td>25</td>\n",
       "    </tr>\n",
       "    <tr>\n",
       "      <th>2</th>\n",
       "      <td>26</td>\n",
       "      <td>27</td>\n",
       "      <td>29</td>\n",
       "      <td>29</td>\n",
       "      <td>30</td>\n",
       "      <td>32</td>\n",
       "      <td>36</td>\n",
       "      <td>42</td>\n",
       "      <td>44</td>\n",
       "      <td>45</td>\n",
       "    </tr>\n",
       "    <tr>\n",
       "      <th>3</th>\n",
       "      <td>45</td>\n",
       "      <td>46</td>\n",
       "      <td>48</td>\n",
       "      <td>52</td>\n",
       "      <td>58</td>\n",
       "      <td>59</td>\n",
       "      <td>61</td>\n",
       "      <td>61</td>\n",
       "      <td>61</td>\n",
       "      <td>65</td>\n",
       "    </tr>\n",
       "    <tr>\n",
       "      <th>4</th>\n",
       "      <td>66</td>\n",
       "      <td>66</td>\n",
       "      <td>68</td>\n",
       "      <td>75</td>\n",
       "      <td>78</td>\n",
       "      <td>80</td>\n",
       "      <td>89</td>\n",
       "      <td>90</td>\n",
       "      <td>92</td>\n",
       "      <td>97</td>\n",
       "    </tr>\n",
       "  </tbody>\n",
       "</table>\n",
       "</div>"
      ],
      "text/plain": [
       "    0   1   2   3   4   5   6   7   8   9\n",
       "0   2   2   3  10  13  14  15  15  16  16\n",
       "1  18  18  20  21  22  22  23  24  25  25\n",
       "2  26  27  29  29  30  32  36  42  44  45\n",
       "3  45  46  48  52  58  59  61  61  61  65\n",
       "4  66  66  68  75  78  80  89  90  92  97"
      ]
     },
     "execution_count": 73,
     "metadata": {},
     "output_type": "execute_result"
    }
   ],
   "source": [
    "#a)\n",
    "\n",
    "d2 = np.array([[2,18,26,45,66], [2,18,27,46,66], [3,20,29,48,68], [10,21,29,52,75], [13,22,30,58,78],\n",
    "              [14,22,32,59,80], [15,23,36,61,89], [15,24,42,61,90], [16,25,44,61,92], [16,25,45,65,97]])\n",
    "df2 = pd.DataFrame(data = d2)\n",
    "df2 = df2.T\n",
    "df2"
   ]
  },
  {
   "cell_type": "code",
   "execution_count": 75,
   "id": "7a837fec",
   "metadata": {},
   "outputs": [],
   "source": [
    "fa,classes= np.histogram(df2, bins=5)\n",
    "fa = fa.astype(int)\n",
    "fr = np.around(fa/fa.sum()*100,decimals=2)\n",
    "fc = np.cumsum(fa).astype(int)\n",
    "classe_str = []\n",
    "for i in range(len(classes)):\n",
    "    if i<=len(classes)-2:\n",
    "        classe_str.append('{:2.2f} |-- {:2.2f}' .format(classes[i],classes[i+1]))\n",
    "    else:\n",
    "        break"
   ]
  },
  {
   "cell_type": "code",
   "execution_count": 76,
   "id": "dd58fb33",
   "metadata": {},
   "outputs": [
    {
     "data": {
      "text/html": [
       "<div>\n",
       "<style scoped>\n",
       "    .dataframe tbody tr th:only-of-type {\n",
       "        vertical-align: middle;\n",
       "    }\n",
       "\n",
       "    .dataframe tbody tr th {\n",
       "        vertical-align: top;\n",
       "    }\n",
       "\n",
       "    .dataframe thead th {\n",
       "        text-align: right;\n",
       "    }\n",
       "</style>\n",
       "<table border=\"1\" class=\"dataframe\">\n",
       "  <thead>\n",
       "    <tr style=\"text-align: right;\">\n",
       "      <th></th>\n",
       "      <th>fi</th>\n",
       "      <th>fr</th>\n",
       "      <th>Fc</th>\n",
       "    </tr>\n",
       "    <tr>\n",
       "      <th>Classes</th>\n",
       "      <th></th>\n",
       "      <th></th>\n",
       "      <th></th>\n",
       "    </tr>\n",
       "  </thead>\n",
       "  <tbody>\n",
       "    <tr>\n",
       "      <th>2.00 |-- 21.00</th>\n",
       "      <td>13</td>\n",
       "      <td>26.0</td>\n",
       "      <td>13</td>\n",
       "    </tr>\n",
       "    <tr>\n",
       "      <th>21.00 |-- 40.00</th>\n",
       "      <td>14</td>\n",
       "      <td>28.0</td>\n",
       "      <td>27</td>\n",
       "    </tr>\n",
       "    <tr>\n",
       "      <th>40.00 |-- 59.00</th>\n",
       "      <td>8</td>\n",
       "      <td>16.0</td>\n",
       "      <td>35</td>\n",
       "    </tr>\n",
       "    <tr>\n",
       "      <th>59.00 |-- 78.00</th>\n",
       "      <td>9</td>\n",
       "      <td>18.0</td>\n",
       "      <td>44</td>\n",
       "    </tr>\n",
       "    <tr>\n",
       "      <th>78.00 |-- 97.00</th>\n",
       "      <td>6</td>\n",
       "      <td>12.0</td>\n",
       "      <td>50</td>\n",
       "    </tr>\n",
       "  </tbody>\n",
       "</table>\n",
       "</div>"
      ],
      "text/plain": [
       "                 fi    fr  Fc\n",
       "Classes                      \n",
       "2.00 |-- 21.00   13  26.0  13\n",
       "21.00 |-- 40.00  14  28.0  27\n",
       "40.00 |-- 59.00   8  16.0  35\n",
       "59.00 |-- 78.00   9  18.0  44\n",
       "78.00 |-- 97.00   6  12.0  50"
      ]
     },
     "execution_count": 76,
     "metadata": {},
     "output_type": "execute_result"
    }
   ],
   "source": [
    "pd.DataFrame({'Classes':classe_str, \n",
    "                         'fi': fa,\n",
    "                         'fr': fr,\n",
    "                         #'frnorm':frnorm,\n",
    "                         'Fc': fc\n",
    "                        }).set_index('Classes')"
   ]
  },
  {
   "cell_type": "code",
   "execution_count": 79,
   "id": "adf99a41",
   "metadata": {},
   "outputs": [
    {
     "data": {
      "text/plain": [
       "0    31.4\n",
       "1    31.8\n",
       "2    33.6\n",
       "3    37.4\n",
       "4    40.2\n",
       "5    41.4\n",
       "6    44.8\n",
       "7    46.4\n",
       "8    47.6\n",
       "9    49.6\n",
       "dtype: float64"
      ]
     },
     "execution_count": 79,
     "metadata": {},
     "output_type": "execute_result"
    }
   ],
   "source": [
    "#b)\n",
    "\n",
    "md = df2.mean()\n",
    "md"
   ]
  },
  {
   "cell_type": "code",
   "execution_count": 82,
   "id": "fd782a66",
   "metadata": {},
   "outputs": [
    {
     "data": {
      "text/plain": [
       "0    22.159422\n",
       "1    22.238705\n",
       "2    22.508665\n",
       "3    23.311800\n",
       "4    24.169402\n",
       "5    24.556873\n",
       "6    27.043668\n",
       "7    26.911707\n",
       "8    27.104243\n",
       "9    29.117692\n",
       "dtype: float64"
      ]
     },
     "execution_count": 82,
     "metadata": {},
     "output_type": "execute_result"
    }
   ],
   "source": [
    "dp = df2.std(ddof=0)\n",
    "dp"
   ]
  },
  {
   "cell_type": "markdown",
   "id": "8ceeaa55",
   "metadata": {},
   "source": [
    "**Questão 4**"
   ]
  },
  {
   "cell_type": "markdown",
   "id": "672d8f2e",
   "metadata": {},
   "source": [
    "a) A mediana seria uma melhor escolha ao invés da média em situações onde a variável possui valores distantes, fazendo a média tender muito para fora do centro."
   ]
  },
  {
   "cell_type": "code",
   "execution_count": 107,
   "id": "1034d717",
   "metadata": {},
   "outputs": [],
   "source": [
    "#b)\n",
    "\n",
    "t1, classes = np.histogram([10,20,30,40,50],bins=5)\n",
    "mediac = np.mean(classes)\n",
    "medianac = np.median(classes)"
   ]
  },
  {
   "cell_type": "markdown",
   "id": "f65d0bb1",
   "metadata": {},
   "source": [
    "Médias e medianas podem ser iguais em histogramas simétricos"
   ]
  },
  {
   "cell_type": "code",
   "execution_count": 109,
   "id": "a9a86490",
   "metadata": {},
   "outputs": [
    {
     "data": {
      "text/plain": [
       "30.0"
      ]
     },
     "execution_count": 109,
     "metadata": {},
     "output_type": "execute_result"
    }
   ],
   "source": [
    "mediac"
   ]
  },
  {
   "cell_type": "code",
   "execution_count": 110,
   "id": "c7a6046d",
   "metadata": {},
   "outputs": [
    {
     "data": {
      "text/plain": [
       "30.0"
      ]
     },
     "execution_count": 110,
     "metadata": {},
     "output_type": "execute_result"
    }
   ],
   "source": [
    "medianac"
   ]
  },
  {
   "cell_type": "code",
   "execution_count": 8,
   "id": "25c263ce",
   "metadata": {},
   "outputs": [],
   "source": [
    "#c)\n",
    "\n",
    "x = x1, classesx = np.histogram([10,35,50,10],bins=4)\n",
    "y = y1, classesy = np.histogram([5,10,31,55],bins=4)\n",
    "z = z1, classesz = np.histogram([2,5,37,58],bins=4)"
   ]
  },
  {
   "cell_type": "code",
   "execution_count": 12,
   "id": "07367cfa",
   "metadata": {},
   "outputs": [
    {
     "data": {
      "text/plain": [
       "30.0"
      ]
     },
     "execution_count": 12,
     "metadata": {},
     "output_type": "execute_result"
    }
   ],
   "source": [
    "classesx.mean()"
   ]
  },
  {
   "cell_type": "code",
   "execution_count": 10,
   "id": "29d62f6b",
   "metadata": {},
   "outputs": [
    {
     "data": {
      "text/plain": [
       "30.0"
      ]
     },
     "execution_count": 10,
     "metadata": {},
     "output_type": "execute_result"
    }
   ],
   "source": [
    "classesy.mean()"
   ]
  },
  {
   "cell_type": "code",
   "execution_count": 11,
   "id": "19e9fbcc",
   "metadata": {},
   "outputs": [
    {
     "data": {
      "text/plain": [
       "30.0"
      ]
     },
     "execution_count": 11,
     "metadata": {},
     "output_type": "execute_result"
    }
   ],
   "source": [
    "classesz.mean()"
   ]
  },
  {
   "cell_type": "code",
   "execution_count": 17,
   "id": "4616a0b1",
   "metadata": {},
   "outputs": [
    {
     "data": {
      "text/plain": [
       "200.0"
      ]
     },
     "execution_count": 17,
     "metadata": {},
     "output_type": "execute_result"
    }
   ],
   "source": [
    "classesx.var(ddof=0)"
   ]
  },
  {
   "cell_type": "code",
   "execution_count": 18,
   "id": "1b950c48",
   "metadata": {},
   "outputs": [
    {
     "data": {
      "text/plain": [
       "312.5"
      ]
     },
     "execution_count": 18,
     "metadata": {},
     "output_type": "execute_result"
    }
   ],
   "source": [
    "classesy.var(ddof=0)"
   ]
  },
  {
   "cell_type": "code",
   "execution_count": 19,
   "id": "50419df2",
   "metadata": {},
   "outputs": [
    {
     "data": {
      "text/plain": [
       "392.0"
      ]
     },
     "execution_count": 19,
     "metadata": {},
     "output_type": "execute_result"
    }
   ],
   "source": [
    "classesz.var(ddof=0)"
   ]
  },
  {
   "cell_type": "markdown",
   "id": "1748ae82",
   "metadata": {},
   "source": [
    "**Questão 5:**"
   ]
  },
  {
   "cell_type": "markdown",
   "id": "25e28786",
   "metadata": {},
   "source": [
    "Por ter uma distribuição igual nas duas pontas, a média e a mediana acabarão se encontrando perto do centro, sendo assim, é uma boa medida de posição"
   ]
  },
  {
   "cell_type": "markdown",
   "id": "3964414e",
   "metadata": {},
   "source": [
    "**Questão 6:**"
   ]
  },
  {
   "cell_type": "code",
   "execution_count": 225,
   "id": "28cf6872",
   "metadata": {},
   "outputs": [
    {
     "data": {
      "text/html": [
       "<div>\n",
       "<style scoped>\n",
       "    .dataframe tbody tr th:only-of-type {\n",
       "        vertical-align: middle;\n",
       "    }\n",
       "\n",
       "    .dataframe tbody tr th {\n",
       "        vertical-align: top;\n",
       "    }\n",
       "\n",
       "    .dataframe thead th {\n",
       "        text-align: right;\n",
       "    }\n",
       "</style>\n",
       "<table border=\"1\" class=\"dataframe\">\n",
       "  <thead>\n",
       "    <tr style=\"text-align: right;\">\n",
       "      <th></th>\n",
       "      <th>0</th>\n",
       "      <th>1</th>\n",
       "      <th>2</th>\n",
       "      <th>3</th>\n",
       "      <th>4</th>\n",
       "      <th>5</th>\n",
       "      <th>6</th>\n",
       "    </tr>\n",
       "  </thead>\n",
       "  <tbody>\n",
       "    <tr>\n",
       "      <th>Número de filhos</th>\n",
       "      <td>0</td>\n",
       "      <td>1</td>\n",
       "      <td>2</td>\n",
       "      <td>3</td>\n",
       "      <td>4</td>\n",
       "      <td>5</td>\n",
       "      <td>mais que 5</td>\n",
       "    </tr>\n",
       "    <tr>\n",
       "      <th>Frequência de famílias</th>\n",
       "      <td>17</td>\n",
       "      <td>20</td>\n",
       "      <td>28</td>\n",
       "      <td>19</td>\n",
       "      <td>7</td>\n",
       "      <td>4</td>\n",
       "      <td>5</td>\n",
       "    </tr>\n",
       "  </tbody>\n",
       "</table>\n",
       "</div>"
      ],
      "text/plain": [
       "                         0   1   2   3  4  5           6\n",
       "Número de filhos         0   1   2   3  4  5  mais que 5\n",
       "Frequência de famílias  17  20  28  19  7  4           5"
      ]
     },
     "execution_count": 225,
     "metadata": {},
     "output_type": "execute_result"
    }
   ],
   "source": [
    "df3 = pd.DataFrame(np.array([[0, 1, 2, 3, 4, 5, 'mais que 5'], [17, 20, 28, 19, 7, 4, 5]]),\n",
    "                             index=['Número de filhos', 'Frequência de famílias'])\n",
    "df3"
   ]
  },
  {
   "cell_type": "code",
   "execution_count": 226,
   "id": "90ff09e9",
   "metadata": {},
   "outputs": [
    {
     "data": {
      "text/plain": [
       "0     8.5\n",
       "1    10.5\n",
       "2    15.0\n",
       "3    11.0\n",
       "4     5.5\n",
       "5     4.5\n",
       "dtype: float64"
      ]
     },
     "execution_count": 226,
     "metadata": {},
     "output_type": "execute_result"
    }
   ],
   "source": [
    "#a)\n",
    "\n",
    "df3.median()"
   ]
  },
  {
   "cell_type": "markdown",
   "id": "358d9b68",
   "metadata": {},
   "source": [
    "b)\n",
    "\n",
    "Moda = 3"
   ]
  },
  {
   "cell_type": "markdown",
   "id": "2d27e5de",
   "metadata": {},
   "source": [
    "c)\n",
    "\n",
    "Não se sabe quantas famílias tem 6, 7, ou mais filhos, apenas que são \"mais de 5\", tornando o cálculo menos exato."
   ]
  },
  {
   "cell_type": "code",
   "execution_count": null,
   "id": "187c845e",
   "metadata": {},
   "outputs": [],
   "source": []
  }
 ],
 "metadata": {
  "kernelspec": {
   "display_name": "Python 3",
   "language": "python",
   "name": "python3"
  },
  "language_info": {
   "codemirror_mode": {
    "name": "ipython",
    "version": 3
   },
   "file_extension": ".py",
   "mimetype": "text/x-python",
   "name": "python",
   "nbconvert_exporter": "python",
   "pygments_lexer": "ipython3",
   "version": "3.8.8"
  }
 },
 "nbformat": 4,
 "nbformat_minor": 5
}
