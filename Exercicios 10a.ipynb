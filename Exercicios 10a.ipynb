{
 "cells": [
  {
   "cell_type": "markdown",
   "id": "3d294630",
   "metadata": {},
   "source": [
    "**Aluno:** Paulo Guilherme Silva de Araújo\n",
    "\n",
    "**Engenharia de Computação**       Turma B"
   ]
  },
  {
   "cell_type": "code",
   "execution_count": 1,
   "id": "db6ee28b",
   "metadata": {},
   "outputs": [],
   "source": [
    "import matplotlib.pyplot as plt\n",
    "import pandas as pd\n",
    "import numpy as np"
   ]
  },
  {
   "cell_type": "markdown",
   "id": "f5e543ba",
   "metadata": {},
   "source": [
    "**Exercício 1:**"
   ]
  },
  {
   "cell_type": "markdown",
   "id": "25a4c15d",
   "metadata": {},
   "source": [
    "Para mudar o tipo de linha, pode-se usar o comando `set_ls`, ou o parâmetro `ls`\n",
    "\n",
    "Para mudar a cor, utiliza-se o comando `set_color` ou `set_c`\n",
    "\n",
    "Para acrescentar um grid, `set_dashes`\n",
    "\n",
    "Para dar um título ao grafico e seus eixos x e y, respectivamente, `plt.title`, `plt.xlabel` e `plt.ylabel`"
   ]
  },
  {
   "cell_type": "markdown",
   "id": "ad4c91ca",
   "metadata": {},
   "source": [
    "**Exercício 2:**"
   ]
  },
  {
   "cell_type": "markdown",
   "id": "06b532b9",
   "metadata": {},
   "source": [
    "Sim, é possível usar esses comandos/parâmetros em um plot criado com `pandas.DataFrame.plot` devido sua integração com o matplotlib"
   ]
  },
  {
   "cell_type": "markdown",
   "id": "f30a5fbf",
   "metadata": {},
   "source": [
    "**Exercício 3:**"
   ]
  },
  {
   "cell_type": "markdown",
   "id": "078654a0",
   "metadata": {},
   "source": [
    "Isso acontece devido o fato desse tipo de gráfico representar uma proporção da frequência dos dados, sendo necessário gerar essa frequência, absoluta ou relativa, para gerar esse gráfico. "
   ]
  },
  {
   "cell_type": "markdown",
   "id": "0d468f83",
   "metadata": {},
   "source": [
    "**Exercício 4:**"
   ]
  },
  {
   "cell_type": "markdown",
   "id": "650b7848",
   "metadata": {},
   "source": [
    "Não, o pyplot exige que seja informado uma coluna ou que seja definido o argumento `(subplots=True)`"
   ]
  },
  {
   "cell_type": "markdown",
   "id": "46b7cdac",
   "metadata": {},
   "source": [
    "**Exercício 5:** "
   ]
  },
  {
   "cell_type": "markdown",
   "id": "8463a584",
   "metadata": {},
   "source": [
    "A comparação dos setores do gráfico pode ser difícil, principalmente quando há vários setores ou quando se tem os dados muito próximos\n",
    "\n",
    "Não permite uma análise eficiente quando se quer dados específicos."
   ]
  },
  {
   "cell_type": "markdown",
   "id": "f770e7aa",
   "metadata": {},
   "source": [
    "**Exercício 6:**"
   ]
  },
  {
   "cell_type": "markdown",
   "id": "8a9442be",
   "metadata": {},
   "source": [
    "Utilizando o parâmetro `colors` no comando `plt.pie` pode-se alterar a cor de seus setores. As cores podem ser definidas em um array, utilizando código de cores hexadecimal, como `#0000FF`para azul e `#FFFFFF` para branco"
   ]
  },
  {
   "cell_type": "markdown",
   "id": "f7eff7a8",
   "metadata": {},
   "source": [
    "**Exercício 7:**"
   ]
  },
  {
   "cell_type": "code",
   "execution_count": 4,
   "id": "1ab4133e",
   "metadata": {},
   "outputs": [
    {
     "data": {
      "text/html": [
       "<div>\n",
       "<style scoped>\n",
       "    .dataframe tbody tr th:only-of-type {\n",
       "        vertical-align: middle;\n",
       "    }\n",
       "\n",
       "    .dataframe tbody tr th {\n",
       "        vertical-align: top;\n",
       "    }\n",
       "\n",
       "    .dataframe thead th {\n",
       "        text-align: right;\n",
       "    }\n",
       "</style>\n",
       "<table border=\"1\" class=\"dataframe\">\n",
       "  <thead>\n",
       "    <tr style=\"text-align: right;\">\n",
       "      <th></th>\n",
       "      <th>velocidade</th>\n",
       "      <th>tempo de vida</th>\n",
       "    </tr>\n",
       "  </thead>\n",
       "  <tbody>\n",
       "    <tr>\n",
       "      <th>caracol</th>\n",
       "      <td>0.1</td>\n",
       "      <td>2.0</td>\n",
       "    </tr>\n",
       "    <tr>\n",
       "      <th>porco</th>\n",
       "      <td>17.5</td>\n",
       "      <td>8.0</td>\n",
       "    </tr>\n",
       "    <tr>\n",
       "      <th>elefante</th>\n",
       "      <td>40.0</td>\n",
       "      <td>70.0</td>\n",
       "    </tr>\n",
       "    <tr>\n",
       "      <th>coelho</th>\n",
       "      <td>48.0</td>\n",
       "      <td>1.5</td>\n",
       "    </tr>\n",
       "    <tr>\n",
       "      <th>girafa</th>\n",
       "      <td>52.0</td>\n",
       "      <td>25.0</td>\n",
       "    </tr>\n",
       "    <tr>\n",
       "      <th>coiote</th>\n",
       "      <td>69.0</td>\n",
       "      <td>12.0</td>\n",
       "    </tr>\n",
       "    <tr>\n",
       "      <th>cavalo</th>\n",
       "      <td>88.0</td>\n",
       "      <td>28.0</td>\n",
       "    </tr>\n",
       "  </tbody>\n",
       "</table>\n",
       "</div>"
      ],
      "text/plain": [
       "          velocidade  tempo de vida\n",
       "caracol          0.1            2.0\n",
       "porco           17.5            8.0\n",
       "elefante        40.0           70.0\n",
       "coelho          48.0            1.5\n",
       "girafa          52.0           25.0\n",
       "coiote          69.0           12.0\n",
       "cavalo          88.0           28.0"
      ]
     },
     "execution_count": 4,
     "metadata": {},
     "output_type": "execute_result"
    }
   ],
   "source": [
    "df = pd.DataFrame({'velocidade': [0.1, 17.5, 40, 48, 52, 69, 88], \n",
    "                   'tempo de vida': [2, 8, 70, 1.5, 25, 12, 28]}, \n",
    "                   index=['caracol', 'porco', 'elefante', 'coelho', 'girafa', 'coiote', 'cavalo'])\n",
    "df"
   ]
  },
  {
   "cell_type": "code",
   "execution_count": 5,
   "id": "bc9d1416",
   "metadata": {},
   "outputs": [
    {
     "data": {
      "text/plain": [
       "<AxesSubplot:ylabel='velocidade'>"
      ]
     },
     "execution_count": 5,
     "metadata": {},
     "output_type": "execute_result"
    },
    {
     "data": {
      "image/png": "[encoded data removed]",
      "text/plain": [
       "<Figure size 360x360 with 1 Axes>"
      ]
     },
     "metadata": {},
     "output_type": "display_data"
    }
   ],
   "source": [
    "df.plot.pie(y='velocidade', figsize=(5, 5))"
   ]
  },
  {
   "cell_type": "code",
   "execution_count": 6,
   "id": "2378d727",
   "metadata": {},
   "outputs": [
    {
     "data": {
      "text/plain": [
       "<AxesSubplot:>"
      ]
     },
     "execution_count": 6,
     "metadata": {},
     "output_type": "execute_result"
    },
    {
     "data": {
      "image/png": "[encoded data removed]",
      "text/plain": [
       "<Figure size 432x288 with 1 Axes>"
      ]
     },
     "metadata": {
      "needs_background": "light"
     },
     "output_type": "display_data"
    }
   ],
   "source": [
    "df['velocidade'].plot.bar()"
   ]
  },
  {
   "cell_type": "markdown",
   "id": "3feb9372",
   "metadata": {},
   "source": [
    "Pode-se notar que o gráfico em pizza tem visual mais agradável para o leitor se comparado ao gráfico de barras, porém, para se alcançar uma precisão maior dos dados visualizados, o ideal é um gráfico de barras. Pode-se ver que é mais fácil fazer a comparação das variáveis quandos estão em barras do que quando estão em setores."
   ]
  },
  {
   "cell_type": "markdown",
   "id": "92c57505",
   "metadata": {},
   "source": [
    "**Exercício 8:**"
   ]
  },
  {
   "cell_type": "code",
   "execution_count": 7,
   "id": "11932092",
   "metadata": {},
   "outputs": [
    {
     "data": {
      "text/plain": [
       "<AxesSubplot:xlabel='tempo de vida'>"
      ]
     },
     "execution_count": 7,
     "metadata": {},
     "output_type": "execute_result"
    },
    {
     "data": {
      "image/png": "[encoded data removed]",
      "text/plain": [
       "<Figure size 432x288 with 1 Axes>"
      ]
     },
     "metadata": {
      "needs_background": "light"
     },
     "output_type": "display_data"
    }
   ],
   "source": [
    "df.plot.bar(y=\"velocidade\", x='tempo de vida')"
   ]
  },
  {
   "cell_type": "code",
   "execution_count": 8,
   "id": "c1635b73",
   "metadata": {},
   "outputs": [
    {
     "data": {
      "text/plain": [
       "<AxesSubplot:xlabel='velocidade'>"
      ]
     },
     "execution_count": 8,
     "metadata": {},
     "output_type": "execute_result"
    },
    {
     "data": {
      "image/png": "[encoded data removed]",
      "text/plain": [
       "<Figure size 432x288 with 1 Axes>"
      ]
     },
     "metadata": {
      "needs_background": "light"
     },
     "output_type": "display_data"
    }
   ],
   "source": [
    "df.plot.bar(x=\"velocidade\", y='tempo de vida')"
   ]
  },
  {
   "cell_type": "markdown",
   "id": "7a7efc66",
   "metadata": {},
   "source": [
    "O comando `df.plot.bar(y=\"velocidade\", x='tempo de vida')` retorna um gráfico que compara duas variáveis, uma no eixo x e outra no eixo y. Ao invertermos as posições dessas variáveis, invertemos seus eixos e, como consequência, a visualização do gráfico"
   ]
  },
  {
   "cell_type": "code",
   "execution_count": null,
   "id": "29dff8c2",
   "metadata": {},
   "outputs": [],
   "source": []
  }
 ],
 "metadata": {
  "kernelspec": {
   "display_name": "Python 3",
   "language": "python",
   "name": "python3"
  },
  "language_info": {
   "codemirror_mode": {
    "name": "ipython",
    "version": 3
   },
   "file_extension": ".py",
   "mimetype": "text/x-python",
   "name": "python",
   "nbconvert_exporter": "python",
   "pygments_lexer": "ipython3",
   "version": "3.8.8"
  }
 },
 "nbformat": 4,
 "nbformat_minor": 5
}
