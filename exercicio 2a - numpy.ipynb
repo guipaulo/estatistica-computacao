{
 "cells": [
  {
   "cell_type": "markdown",
   "id": "9d72d10b",
   "metadata": {},
   "source": [
    "**Discente:** Paulo Guilherme Silva de Araújo\n",
    "\n",
    "**Turma:** Engenharia de Computação - 2° período (Turma B)"
   ]
  },
  {
   "cell_type": "markdown",
   "id": "d5708102",
   "metadata": {},
   "source": [
    " **Questão 1:**\n",
    " \n",
    " Para adicionar a biblioteca **numpy**, pode-se usar:"
   ]
  },
  {
   "cell_type": "code",
   "execution_count": 2,
   "id": "48728e13",
   "metadata": {},
   "outputs": [],
   "source": [
    "import numpy as np"
   ]
  },
  {
   "cell_type": "markdown",
   "id": "f696b13e",
   "metadata": {},
   "source": [
    "**Questão 2:**\n",
    "\n",
    "Vetorização é a forma como o numpy realiza as operações, como um vetor matemático, elemento a elemento.\n",
    "\n",
    "Broadcasting é a relação de posição dos elementos de um vetor para fazer alguma determinada operação."
   ]
  },
  {
   "cell_type": "markdown",
   "id": "a082d523",
   "metadata": {},
   "source": [
    "**Questão 3:**\n",
    "\n",
    "Array é uma coleção de vários elementos, do mesmo tipo, que podem ser identificados por seu índice.\n",
    "\n",
    "Lista é uma coleção de elementos que podem ou não ser do mesmo tipo, mas que também são identificados por seu indice.\n",
    "\n",
    "Dicionário é uma coleção de elementos de tipos variados que, diferente do array e da lista, são identificados por chaves associados a eles."
   ]
  },
  {
   "cell_type": "markdown",
   "id": "af155170",
   "metadata": {},
   "source": [
    "**Questão 4:**"
   ]
  },
  {
   "cell_type": "code",
   "execution_count": 3,
   "id": "46e699a3",
   "metadata": {},
   "outputs": [
    {
     "name": "stdout",
     "output_type": "stream",
     "text": [
      "[[ 1  6 11]\n",
      " [ 2  7 12]\n",
      " [ 3  8 13]\n",
      " [ 4  9 14]\n",
      " [ 5 10 15]]\n"
     ]
    }
   ],
   "source": [
    "M = np.array([[1,  6, 11], [2,  7, 12], [3,  8, 13],[4,  9, 14], [5, 10, 15]])\n",
    "print(M)"
   ]
  },
  {
   "cell_type": "code",
   "execution_count": 4,
   "id": "c9115843",
   "metadata": {},
   "outputs": [
    {
     "name": "stdout",
     "output_type": "stream",
     "text": [
      "[[1, 6, 11], [2, 7, 12], [3, 8, 13], [4, 9, 14], [5, 10, 15]]\n"
     ]
    }
   ],
   "source": [
    "N = [[1,  6, 11], [2,  7, 12], [3,  8, 13],[4,  9, 14], [5, 10, 15]]\n",
    "print(N)"
   ]
  },
  {
   "cell_type": "markdown",
   "id": "be7b59d2",
   "metadata": {},
   "source": [
    "**Questão 5:**"
   ]
  },
  {
   "cell_type": "code",
   "execution_count": 4,
   "id": "8e0c544b",
   "metadata": {},
   "outputs": [
    {
     "data": {
      "text/plain": [
       "array([ 1.        ,  3.11111111,  5.22222222,  7.33333333,  9.44444444,\n",
       "       11.55555556, 13.66666667, 15.77777778, 17.88888889, 20.        ])"
      ]
     },
     "execution_count": 4,
     "metadata": {},
     "output_type": "execute_result"
    }
   ],
   "source": [
    "np.linspace(1, 20, 10)"
   ]
  },
  {
   "cell_type": "code",
   "execution_count": 9,
   "id": "ccad4bf2",
   "metadata": {},
   "outputs": [
    {
     "data": {
      "text/plain": [
       "array([ 1,  3,  5,  7,  9, 11, 13, 15, 17, 19])"
      ]
     },
     "execution_count": 9,
     "metadata": {},
     "output_type": "execute_result"
    }
   ],
   "source": [
    "np.arange(1, 21, 2)"
   ]
  },
  {
   "cell_type": "code",
   "execution_count": 20,
   "id": "f6423857",
   "metadata": {},
   "outputs": [
    {
     "name": "stdout",
     "output_type": "stream",
     "text": [
      "[[1 0 0]\n",
      " [0 2 0]\n",
      " [0 0 3]]\n"
     ]
    }
   ],
   "source": [
    "D = np.diag([1, 2, 3])\n",
    "print(D)"
   ]
  },
  {
   "cell_type": "code",
   "execution_count": null,
   "id": "fbb78f6c",
   "metadata": {},
   "outputs": [],
   "source": []
  }
 ],
 "metadata": {
  "kernelspec": {
   "display_name": "Python 3",
   "language": "python",
   "name": "python3"
  },
  "language_info": {
   "codemirror_mode": {
    "name": "ipython",
    "version": 3
   },
   "file_extension": ".py",
   "mimetype": "text/x-python",
   "name": "python",
   "nbconvert_exporter": "python",
   "pygments_lexer": "ipython3",
   "version": "3.8.8"
  }
 },
 "nbformat": 4,
 "nbformat_minor": 5
}
