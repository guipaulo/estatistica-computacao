{
 "cells": [
  {
   "cell_type": "markdown",
   "id": "e2b67dc0",
   "metadata": {},
   "source": [
    "**Discente:** Paulo Guilherme Silva de Araújo \n",
    "\n",
    "**Turma:** Engenharia de Computação - 2° Período (B)"
   ]
  },
  {
   "cell_type": "code",
   "execution_count": 1,
   "id": "b5b34dc7",
   "metadata": {},
   "outputs": [],
   "source": [
    "import pandas as pd\n",
    "import numpy as np\n",
    "import matplotlib.pyplot as plt"
   ]
  },
  {
   "cell_type": "markdown",
   "id": "d44f267b",
   "metadata": {},
   "source": [
    "**Exercício 1:**"
   ]
  },
  {
   "cell_type": "code",
   "execution_count": 2,
   "id": "111ee047",
   "metadata": {},
   "outputs": [
    {
     "data": {
      "text/html": [
       "<div>\n",
       "<style scoped>\n",
       "    .dataframe tbody tr th:only-of-type {\n",
       "        vertical-align: middle;\n",
       "    }\n",
       "\n",
       "    .dataframe tbody tr th {\n",
       "        vertical-align: top;\n",
       "    }\n",
       "\n",
       "    .dataframe thead th {\n",
       "        text-align: right;\n",
       "    }\n",
       "</style>\n",
       "<table border=\"1\" class=\"dataframe\">\n",
       "  <thead>\n",
       "    <tr style=\"text-align: right;\">\n",
       "      <th></th>\n",
       "      <th>Idade</th>\n",
       "      <th>Salário</th>\n",
       "    </tr>\n",
       "  </thead>\n",
       "  <tbody>\n",
       "    <tr>\n",
       "      <th>0</th>\n",
       "      <td>36</td>\n",
       "      <td>6300</td>\n",
       "    </tr>\n",
       "    <tr>\n",
       "      <th>1</th>\n",
       "      <td>51</td>\n",
       "      <td>5700</td>\n",
       "    </tr>\n",
       "    <tr>\n",
       "      <th>2</th>\n",
       "      <td>26</td>\n",
       "      <td>4500</td>\n",
       "    </tr>\n",
       "    <tr>\n",
       "      <th>3</th>\n",
       "      <td>25</td>\n",
       "      <td>3800</td>\n",
       "    </tr>\n",
       "    <tr>\n",
       "      <th>4</th>\n",
       "      <td>29</td>\n",
       "      <td>3200</td>\n",
       "    </tr>\n",
       "    <tr>\n",
       "      <th>5</th>\n",
       "      <td>53</td>\n",
       "      <td>7300</td>\n",
       "    </tr>\n",
       "    <tr>\n",
       "      <th>6</th>\n",
       "      <td>42</td>\n",
       "      <td>7100</td>\n",
       "    </tr>\n",
       "    <tr>\n",
       "      <th>7</th>\n",
       "      <td>38</td>\n",
       "      <td>5600</td>\n",
       "    </tr>\n",
       "    <tr>\n",
       "      <th>8</th>\n",
       "      <td>35</td>\n",
       "      <td>6400</td>\n",
       "    </tr>\n",
       "    <tr>\n",
       "      <th>9</th>\n",
       "      <td>45</td>\n",
       "      <td>7000</td>\n",
       "    </tr>\n",
       "    <tr>\n",
       "      <th>10</th>\n",
       "      <td>26</td>\n",
       "      <td>3700</td>\n",
       "    </tr>\n",
       "    <tr>\n",
       "      <th>11</th>\n",
       "      <td>37</td>\n",
       "      <td>6500</td>\n",
       "    </tr>\n",
       "    <tr>\n",
       "      <th>12</th>\n",
       "      <td>24</td>\n",
       "      <td>4000</td>\n",
       "    </tr>\n",
       "    <tr>\n",
       "      <th>13</th>\n",
       "      <td>31</td>\n",
       "      <td>5100</td>\n",
       "    </tr>\n",
       "    <tr>\n",
       "      <th>14</th>\n",
       "      <td>29</td>\n",
       "      <td>4500</td>\n",
       "    </tr>\n",
       "  </tbody>\n",
       "</table>\n",
       "</div>"
      ],
      "text/plain": [
       "    Idade  Salário\n",
       "0      36     6300\n",
       "1      51     5700\n",
       "2      26     4500\n",
       "3      25     3800\n",
       "4      29     3200\n",
       "5      53     7300\n",
       "6      42     7100\n",
       "7      38     5600\n",
       "8      35     6400\n",
       "9      45     7000\n",
       "10     26     3700\n",
       "11     37     6500\n",
       "12     24     4000\n",
       "13     31     5100\n",
       "14     29     4500"
      ]
     },
     "execution_count": 2,
     "metadata": {},
     "output_type": "execute_result"
    }
   ],
   "source": [
    "d = {'Idade': [36, 51, 26, 25, 29, 53, 42, 38, 35, 45, 26, 37, 24, 31, 29], \n",
    "     'Salário': [6300, 5700, 4500, 3800, 3200, 7300, 7100, 5600, 6400, 7000,\n",
    "                3700, 6500, 4000, 5100, 4500]}\n",
    "df = pd.DataFrame(data=d)\n",
    "df"
   ]
  },
  {
   "cell_type": "code",
   "execution_count": 64,
   "id": "ee3add37",
   "metadata": {},
   "outputs": [],
   "source": [
    "dados = df['Idade']"
   ]
  },
  {
   "cell_type": "code",
   "execution_count": 65,
   "id": "56a0a17f",
   "metadata": {},
   "outputs": [],
   "source": [
    "fa,classes= np.histogram(dados, bins=[19, 24, 29, 34, 39, 44, 49])"
   ]
  },
  {
   "cell_type": "code",
   "execution_count": 66,
   "id": "7e86eb09",
   "metadata": {},
   "outputs": [],
   "source": [
    "fa = fa.astype(int)"
   ]
  },
  {
   "cell_type": "code",
   "execution_count": 67,
   "id": "81cbf9ce",
   "metadata": {},
   "outputs": [],
   "source": [
    "fr = np.around(fa/fa.sum()*100,decimals=2)"
   ]
  },
  {
   "cell_type": "code",
   "execution_count": 68,
   "id": "7d1fc55e",
   "metadata": {},
   "outputs": [],
   "source": [
    "fc = np.cumsum(fa).astype(int)"
   ]
  },
  {
   "cell_type": "code",
   "execution_count": 69,
   "id": "6eaf9c17",
   "metadata": {},
   "outputs": [],
   "source": [
    "classe_str = []\n",
    "for i in range(len(classes+1)):\n",
    "    if i<=len(classes)-2:\n",
    "        classe_str.append('{:2.2f} |-- {:2.2f}' .format(classes[i],classes[i+1]))\n",
    "    else:\n",
    "        break"
   ]
  },
  {
   "cell_type": "code",
   "execution_count": 70,
   "id": "821f2183",
   "metadata": {},
   "outputs": [
    {
     "data": {
      "text/html": [
       "<div>\n",
       "<style scoped>\n",
       "    .dataframe tbody tr th:only-of-type {\n",
       "        vertical-align: middle;\n",
       "    }\n",
       "\n",
       "    .dataframe tbody tr th {\n",
       "        vertical-align: top;\n",
       "    }\n",
       "\n",
       "    .dataframe thead th {\n",
       "        text-align: right;\n",
       "    }\n",
       "</style>\n",
       "<table border=\"1\" class=\"dataframe\">\n",
       "  <thead>\n",
       "    <tr style=\"text-align: right;\">\n",
       "      <th></th>\n",
       "      <th>fi</th>\n",
       "      <th>fr</th>\n",
       "      <th>Fc</th>\n",
       "    </tr>\n",
       "    <tr>\n",
       "      <th>Classes</th>\n",
       "      <th></th>\n",
       "      <th></th>\n",
       "      <th></th>\n",
       "    </tr>\n",
       "  </thead>\n",
       "  <tbody>\n",
       "    <tr>\n",
       "      <th>19.00 |-- 24.00</th>\n",
       "      <td>0</td>\n",
       "      <td>0.00</td>\n",
       "      <td>0</td>\n",
       "    </tr>\n",
       "    <tr>\n",
       "      <th>24.00 |-- 29.00</th>\n",
       "      <td>4</td>\n",
       "      <td>30.77</td>\n",
       "      <td>4</td>\n",
       "    </tr>\n",
       "    <tr>\n",
       "      <th>29.00 |-- 34.00</th>\n",
       "      <td>3</td>\n",
       "      <td>23.08</td>\n",
       "      <td>7</td>\n",
       "    </tr>\n",
       "    <tr>\n",
       "      <th>34.00 |-- 39.00</th>\n",
       "      <td>4</td>\n",
       "      <td>30.77</td>\n",
       "      <td>11</td>\n",
       "    </tr>\n",
       "    <tr>\n",
       "      <th>39.00 |-- 44.00</th>\n",
       "      <td>1</td>\n",
       "      <td>7.69</td>\n",
       "      <td>12</td>\n",
       "    </tr>\n",
       "    <tr>\n",
       "      <th>44.00 |-- 49.00</th>\n",
       "      <td>1</td>\n",
       "      <td>7.69</td>\n",
       "      <td>13</td>\n",
       "    </tr>\n",
       "  </tbody>\n",
       "</table>\n",
       "</div>"
      ],
      "text/plain": [
       "                 fi     fr  Fc\n",
       "Classes                       \n",
       "19.00 |-- 24.00   0   0.00   0\n",
       "24.00 |-- 29.00   4  30.77   4\n",
       "29.00 |-- 34.00   3  23.08   7\n",
       "34.00 |-- 39.00   4  30.77  11\n",
       "39.00 |-- 44.00   1   7.69  12\n",
       "44.00 |-- 49.00   1   7.69  13"
      ]
     },
     "execution_count": 70,
     "metadata": {},
     "output_type": "execute_result"
    }
   ],
   "source": [
    "pd.DataFrame({'Classes':classe_str, \n",
    "                         'fi': fa,\n",
    "                         'fr': fr,\n",
    "                         #'frnorm':frnorm,\n",
    "                         'Fc': fc\n",
    "                        }).set_index('Classes')"
   ]
  },
  {
   "cell_type": "markdown",
   "id": "fb32e134",
   "metadata": {},
   "source": [
    "**Exercício 2:**"
   ]
  },
  {
   "cell_type": "code",
   "execution_count": 88,
   "id": "09e923d4",
   "metadata": {},
   "outputs": [],
   "source": [
    "dados2 = df['Salário']"
   ]
  },
  {
   "cell_type": "code",
   "execution_count": 89,
   "id": "94c844fe",
   "metadata": {},
   "outputs": [],
   "source": [
    "fa2,classes2= np.histogram(dados2, bins= 5)"
   ]
  },
  {
   "cell_type": "code",
   "execution_count": 90,
   "id": "5ff02718",
   "metadata": {},
   "outputs": [],
   "source": [
    "fa2 = fa2.astype(int)"
   ]
  },
  {
   "cell_type": "code",
   "execution_count": 91,
   "id": "908abda5",
   "metadata": {},
   "outputs": [],
   "source": [
    "fr2 = np.around(fa2/fa2.sum()*100,decimals=2)"
   ]
  },
  {
   "cell_type": "code",
   "execution_count": 92,
   "id": "b62f9c78",
   "metadata": {},
   "outputs": [],
   "source": [
    "fc2 = np.cumsum(fa2).astype(int)"
   ]
  },
  {
   "cell_type": "code",
   "execution_count": 93,
   "id": "5f019f8d",
   "metadata": {},
   "outputs": [],
   "source": [
    "classe_str2 = []\n",
    "for i in range(len(classes2)):\n",
    "    if i<=len(classes2)-2:\n",
    "        classe_str2.append('{:2.2f} |-- {:2.2f}' .format(classes2[i],classes2[i+1]))\n",
    "    else:\n",
    "        break"
   ]
  },
  {
   "cell_type": "code",
   "execution_count": 94,
   "id": "d417f5b3",
   "metadata": {},
   "outputs": [
    {
     "data": {
      "text/html": [
       "<div>\n",
       "<style scoped>\n",
       "    .dataframe tbody tr th:only-of-type {\n",
       "        vertical-align: middle;\n",
       "    }\n",
       "\n",
       "    .dataframe tbody tr th {\n",
       "        vertical-align: top;\n",
       "    }\n",
       "\n",
       "    .dataframe thead th {\n",
       "        text-align: right;\n",
       "    }\n",
       "</style>\n",
       "<table border=\"1\" class=\"dataframe\">\n",
       "  <thead>\n",
       "    <tr style=\"text-align: right;\">\n",
       "      <th></th>\n",
       "      <th>fi</th>\n",
       "      <th>fr</th>\n",
       "      <th>Fc</th>\n",
       "    </tr>\n",
       "    <tr>\n",
       "      <th>Classes</th>\n",
       "      <th></th>\n",
       "      <th></th>\n",
       "      <th></th>\n",
       "    </tr>\n",
       "  </thead>\n",
       "  <tbody>\n",
       "    <tr>\n",
       "      <th>3200.00 |-- 4020.00</th>\n",
       "      <td>4</td>\n",
       "      <td>26.67</td>\n",
       "      <td>4</td>\n",
       "    </tr>\n",
       "    <tr>\n",
       "      <th>4020.00 |-- 4840.00</th>\n",
       "      <td>2</td>\n",
       "      <td>13.33</td>\n",
       "      <td>6</td>\n",
       "    </tr>\n",
       "    <tr>\n",
       "      <th>4840.00 |-- 5660.00</th>\n",
       "      <td>2</td>\n",
       "      <td>13.33</td>\n",
       "      <td>8</td>\n",
       "    </tr>\n",
       "    <tr>\n",
       "      <th>5660.00 |-- 6480.00</th>\n",
       "      <td>3</td>\n",
       "      <td>20.00</td>\n",
       "      <td>11</td>\n",
       "    </tr>\n",
       "    <tr>\n",
       "      <th>6480.00 |-- 7300.00</th>\n",
       "      <td>4</td>\n",
       "      <td>26.67</td>\n",
       "      <td>15</td>\n",
       "    </tr>\n",
       "  </tbody>\n",
       "</table>\n",
       "</div>"
      ],
      "text/plain": [
       "                     fi     fr  Fc\n",
       "Classes                           \n",
       "3200.00 |-- 4020.00   4  26.67   4\n",
       "4020.00 |-- 4840.00   2  13.33   6\n",
       "4840.00 |-- 5660.00   2  13.33   8\n",
       "5660.00 |-- 6480.00   3  20.00  11\n",
       "6480.00 |-- 7300.00   4  26.67  15"
      ]
     },
     "execution_count": 94,
     "metadata": {},
     "output_type": "execute_result"
    }
   ],
   "source": [
    "pd.DataFrame({'Classes':classe_str2, \n",
    "                         'fi': fa2,\n",
    "                         'fr': fr2,\n",
    "                         #'frnorm':frnorm,\n",
    "                         'Fc': fc2\n",
    "                        }).set_index('Classes')"
   ]
  },
  {
   "cell_type": "code",
   "execution_count": null,
   "id": "6d6418f3",
   "metadata": {},
   "outputs": [],
   "source": []
  }
 ],
 "metadata": {
  "kernelspec": {
   "display_name": "Python 3",
   "language": "python",
   "name": "python3"
  },
  "language_info": {
   "codemirror_mode": {
    "name": "ipython",
    "version": 3
   },
   "file_extension": ".py",
   "mimetype": "text/x-python",
   "name": "python",
   "nbconvert_exporter": "python",
   "pygments_lexer": "ipython3",
   "version": "3.8.8"
  }
 },
 "nbformat": 4,
 "nbformat_minor": 5
}
